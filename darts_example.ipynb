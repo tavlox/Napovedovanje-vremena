{
 "cells": [
  {
   "cell_type": "code",
   "execution_count": 1,
   "metadata": {},
   "outputs": [
    {
     "name": "stderr",
     "output_type": "stream",
     "text": [
      "/home/iva/anaconda3/envs/Python_3.9/lib/python3.9/site-packages/tqdm/auto.py:21: TqdmWarning: IProgress not found. Please update jupyter and ipywidgets. See https://ipywidgets.readthedocs.io/en/stable/user_install.html\n",
      "  from .autonotebook import tqdm as notebook_tqdm\n"
     ]
    }
   ],
   "source": [
    "from darts.models import RandomForest\n",
    "from missing_timestamps import remove_duplicates\n",
    "from data_preparation import Preparation\n",
    "from darts import TimeSeries\n",
    "\n",
    "\n",
    "\n"
   ]
  },
  {
   "cell_type": "code",
   "execution_count": 2,
   "metadata": {},
   "outputs": [],
   "source": [
    "data = Preparation(r'/home/iva/Desktop/operato-meteo-1/data/MAS_processed/ELES-MAS-5001.csv.gz', \"AMBIENT_TEMPERATURE\")\n",
    "train, test = data.split()\n",
    "train_processed = remove_duplicates(train)\n",
    "train_processed_ = train_processed[\"AMBIENT_TEMPERATURE\"].copy().squeeze()\n",
    "#train_processed_ = train_processed.asfreq(\"5T\").fillna(method=\"ffill\")\n",
    "test_processed = remove_duplicates(test)\n",
    "test_processed_ = test_processed[\"AMBIENT_TEMPERATURE\"].copy().squeeze()\n",
    "train_series = TimeSeries.from_values(train_processed_.values)\n"
   ]
  },
  {
   "cell_type": "code",
   "execution_count": 3,
   "metadata": {},
   "outputs": [],
   "source": [
    "model = RandomForest(lags=24, n_estimators=100, max_depth=10, criterion=\"absolute_error\", use_static_covariates=False, output_chunk_length=24, multi_models=False)\n",
    "model.fit(train_series)\n",
    "model.save(\"random_forest_lags24.pkl\")"
   ]
  }
 ],
 "metadata": {
  "kernelspec": {
   "display_name": "Python_3.9",
   "language": "python",
   "name": "python3"
  },
  "language_info": {
   "codemirror_mode": {
    "name": "ipython",
    "version": 3
   },
   "file_extension": ".py",
   "mimetype": "text/x-python",
   "name": "python",
   "nbconvert_exporter": "python",
   "pygments_lexer": "ipython3",
   "version": "3.9.18"
  },
  "orig_nbformat": 4
 },
 "nbformat": 4,
 "nbformat_minor": 2
}
